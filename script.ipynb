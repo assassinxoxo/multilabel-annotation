{
 "cells": [
  {
   "cell_type": "markdown",
   "metadata": {},
   "source": [
    "1. legnth = low,medium,high\n",
    "1. subject/object/verb/adverb/adjective/abbrevation = yes,no\n",
    "1. voice = active,passive\n",
    "1. type of sentences = immperative, interrogative, exclamative, declarative, negative, affirmative etc.\n",
    "1. figures of speech = metaphor, simili, parsonification, idiom\n",
    "1. Tense = present, past, simple, particple, etc.\n",
    "1. Code Switching = yes, no\n",
    "1. Typos = yes, no\n",
    "1. Emojis = yes, no\n",
    "1. Homoglyphs = yes, no\n",
    "1. Special Characters = yes, no\n",
    "1. Gramatical Correctness = yes, no\n",
    "1. Clause = Dependent, independent, subordinate"
   ]
  },
  {
   "cell_type": "code",
   "execution_count": null,
   "metadata": {},
   "outputs": [],
   "source": []
  }
 ],
 "metadata": {
  "kernelspec": {
   "display_name": "Python 3",
   "language": "python",
   "name": "python3"
  },
  "language_info": {
   "codemirror_mode": {
    "name": "ipython",
    "version": 3
   },
   "file_extension": ".py",
   "mimetype": "text/x-python",
   "name": "python",
   "nbconvert_exporter": "python",
   "pygments_lexer": "ipython3",
   "version": "3.6.8rc1"
  }
 },
 "nbformat": 4,
 "nbformat_minor": 2
}
